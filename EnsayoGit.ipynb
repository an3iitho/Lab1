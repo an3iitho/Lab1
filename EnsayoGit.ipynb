{
 "cells": [
  {
   "cell_type": "markdown",
   "metadata": {},
   "source": [
    "# Controlador de versiones Git\n",
    "\n",
    "    Por: Álvaro Andrés Esquivel Gómez  \n",
    "    No Carné: 11002822\n"
   ]
  },
  {
   "cell_type": "markdown",
   "metadata": {},
   "source": [
    "Git es un controlador de versiones ampliamente utilizado en el desarrollo web y en muchas otras áreas, básicamente Git tiene la capacidad de crear un histórico de todos los cambios realizados en documentos y proveer la gestión para el trabajo colaborativo, ya sea de manera local, como en remoto. \n",
    "\n",
    "* Algunas definiciones y explicaciones importantes de Git:\n",
    "    * Repositorio: Espacio centralizado para el almacenamiento de un proyecto en Git. \n",
    "    * Trees: Son las carpetas o fólderes que componen el repositorio de Git.\n",
    "    * Blobs: archivos que están contenidos dentro de las carpetas. \n",
    "    * Snapshot: Copia congelada del estado actual del repositorio. Los snapshots contienen todos los archivos y carpetas contenidos en el repositorio y guarda su estado. Por lo tanto, los snapshots almacenan el \"estado\" del repositorio. \n",
    "    * Branch: El conjutno de estados (snapshot) componen el historio del árbol de versiones, estos estados se pueden subdividir, con la finalidad de crear dos o más estados de un mismo estado, y trabajar de manera independiente de cada uno, a esta subdivisión se le conoce como branch.\n",
    "    * Merge: Unir dos o más ramas de Git para crear un solo estado.\n",
    "    * Merge conflicts: errores que se presentaron al intentar unir dos o mas ramas, es responsabilidad del desarrollador resolver este tipo de conflictos. \n",
    "    * Commit: Almacenamiento de un nuevo estado, con los cambios realizados al historico de versiones. \n",
    "    * HEAD: Puntero que indica el snapshot que actualmente se visualiza del repositorio. \n",
    "    * Master: La version mas actualizada del arbol de versiones, es la principal rama de desarrollo. \n",
    "    * hash: nombre que representa un commit o un Branch. \n",
    "    * Clon: copiar \n",
    "\n",
    " \n",
    "    \n",
    "\n"
   ]
  },
  {
   "cell_type": "code",
   "execution_count": null,
   "metadata": {},
   "outputs": [],
   "source": [
    "# Comando utilizado para inicializar las magic cells, es necesario ejecutarlo para la demostración de codigo en el símbolo del sistema\n",
    "%magic"
   ]
  },
  {
   "cell_type": "markdown",
   "metadata": {},
   "source": [
    "## Documentación de Git\n",
    "\n",
    "Uno de los principales comandos es la ayuda de Git, ya que muestra todos los posibles comandos más utilizados en Git. "
   ]
  },
  {
   "cell_type": "code",
   "execution_count": null,
   "metadata": {},
   "outputs": [],
   "source": [
    "%%cmd \n",
    "git help"
   ]
  },
  {
   "cell_type": "markdown",
   "metadata": {},
   "source": [
    "## Inicializar un repositorio Git\n",
    "\n",
    "Indica a Git que el directorio actual será un repositoro, y por tanto crea las estructuras de control necesarias para crear históricos."
   ]
  },
  {
   "cell_type": "code",
   "execution_count": null,
   "metadata": {},
   "outputs": [],
   "source": [
    "%%cmd \n",
    "REM Comando para crear la carpeta de ejemplo\n",
    "mkdir Ejemplo_Lab1\n",
    "REM Comando para ingresar a la carpeta creada\n",
    "cd Ejemplo_Lab1/\n",
    "REM Comando para crear un nuevo repositorio en la carpeta anterior\n",
    "git init"
   ]
  },
  {
   "cell_type": "markdown",
   "metadata": {},
   "source": [
    "Dentro de este repositorio se puede agregar cualquier archivo de codigo o tipo de archivo que se desea versionar, el siquiente ejemplo crea un archivo de python en el repositorio. "
   ]
  },
  {
   "cell_type": "code",
   "execution_count": null,
   "metadata": {},
   "outputs": [],
   "source": [
    "%%cmd \n",
    "echo print(\"Prueba linea 1\") > Ejemplo_Lab1/ejem.py"
   ]
  },
  {
   "cell_type": "markdown",
   "metadata": {},
   "source": [
    "Este archivo de ejemplo únicamente muestra una linea de salida. "
   ]
  },
  {
   "cell_type": "code",
   "execution_count": null,
   "metadata": {},
   "outputs": [],
   "source": [
    "%%cmd \n",
    "python Ejemplo_Lab1/ejem.py"
   ]
  },
  {
   "cell_type": "markdown",
   "metadata": {},
   "source": [
    "## Estatus de Git\n",
    "\n",
    "Git identifica los cambios realizados dentro del repositorio y los muestra con el siguiente comando:"
   ]
  },
  {
   "cell_type": "code",
   "execution_count": null,
   "metadata": {},
   "outputs": [],
   "source": [
    "%%cmd \n",
    "cd Ejemplo_Lab1/\n",
    "git status"
   ]
  },
  {
   "cell_type": "markdown",
   "metadata": {},
   "source": [
    "## Crear un nuevo estado (snapshot)\n",
    "\n",
    "Los estados se pueden almacenar, es decir, toda la información contenida en los archivos o docuemntos se crea almacenan en un estado fijo y se concatenan al árbol historico de versiones con los siguientes comandos: "
   ]
  },
  {
   "cell_type": "code",
   "execution_count": null,
   "metadata": {},
   "outputs": [],
   "source": [
    "%%cmd \n",
    "cd Ejemplo_Lab1/\n",
    "REM Agrega el archivo al rastreo de versiones de Git. \n",
    "git add ejem.py"
   ]
  },
  {
   "cell_type": "code",
   "execution_count": null,
   "metadata": {},
   "outputs": [],
   "source": [
    "%%cmd \n",
    "cd Ejemplo_Lab1/\n",
    "REM Crea un nuevo estado al árbol historico de versiones\n",
    "git commit"
   ]
  },
  {
   "cell_type": "markdown",
   "metadata": {},
   "source": [
    "Para mostrar todo el historico del repositorio, incluye la descripcion historica y los cambios realizados en cada snapshot. "
   ]
  },
  {
   "cell_type": "code",
   "execution_count": null,
   "metadata": {},
   "outputs": [],
   "source": [
    "git log --all --graph --decorate --oneline"
   ]
  },
  {
   "cell_type": "markdown",
   "metadata": {},
   "source": [
    "HEAD en un punteque que hacer referencia a un commit o estado, es posible cambiar a HEAD hacia otro commit con la finalidad de hacer cambios utilizando ese snapshot o para crear una copia, mediante el comando: "
   ]
  },
  {
   "cell_type": "code",
   "execution_count": null,
   "metadata": {},
   "outputs": [],
   "source": [
    " git checkout  <hash de un commit anterior> "
   ]
  },
  {
   "cell_type": "markdown",
   "metadata": {},
   "source": [
    "## Branching y Merging\n",
    "\n",
    "Una de las principales ventajas de Git, es la creación de múltiples ramas dedicadas al trabajo en paralelo de diferentes funciones. Cuando se finalice el trabajo en estas ramas, es posible unificarlas de nuevo, Git tiene componentes que ayudan al proceso, he identifican los posibles inconvenientes que pueda tener dicha acción. "
   ]
  },
  {
   "cell_type": "code",
   "execution_count": null,
   "metadata": {},
   "outputs": [],
   "source": [
    "#Crea una nueva rama\n",
    "git branch <nombre de la rama>\n",
    "#Unir ramas en una unica version, se pueden unir mas de una rama\n",
    "git merge <nombre de la rama a unir> <nombre de la rama a unir>"
   ]
  },
  {
   "cell_type": "markdown",
   "metadata": {},
   "source": [
    "## Git Remote\n",
    "\n",
    "Git tiene la capacidad de tener una relacion con otros repositorios remotos del mismo respositorio, la finalidad es que multiples personas tenga el acceso a la información dentro del repositorio y pueden hacer cambios, ver versiones anteriores y crear nuevas instancias de master. Para ello se utilizan los siguientes comandos: "
   ]
  },
  {
   "cell_type": "code",
   "execution_count": null,
   "metadata": {},
   "outputs": [],
   "source": [
    "#Muestra los repositorios remotos que conoce. \n",
    "git remote\n",
    "#Crear una nuevo repositorio remoto\n",
    "git remote add <nombre del repositorio> <link del repositorio>\n",
    "#Agregar cambios al repositorio remoto\n",
    "git push <nombre repositorio local> <nombre de la rama>\n",
    "#Para recibir lo cambios realizados por el repositorio remoto\n",
    "git fetch "
   ]
  },
  {
   "cell_type": "markdown",
   "metadata": {},
   "source": [
    "Es posible clonar un respositorio remoto hacia la maquina local, con la finalidad de obtener el arbol completo de versiones y toda la información disponible para su edición de manera local. \n",
    "\n",
    "Para el siguiente ejemplo se descarga el repositorio para la clase de Ciencia de Datos en Python 2020: "
   ]
  },
  {
   "cell_type": "code",
   "execution_count": null,
   "metadata": {},
   "outputs": [],
   "source": [
    "%%cmd \n",
    "git clone https://github.com/ErickDiaz/ds_py_galileo_2020.git"
   ]
  },
  {
   "cell_type": "markdown",
   "metadata": {},
   "source": [
    "Para mostrar el histórico de veriones (quien hizo el cambio, y la fecha en que se realizo) para un determinado archivo, se puede usar el siguiente comando: "
   ]
  },
  {
   "cell_type": "code",
   "execution_count": null,
   "metadata": {},
   "outputs": [],
   "source": [
    "git blame <nombre archivo>"
   ]
  },
  {
   "cell_type": "markdown",
   "metadata": {},
   "source": [
    "# Conclusiones\n",
    "\n",
    "* Git es un excelente programa para el manejo de versiones, y es indispensable para el desarrollo de sistemas. El trabajo en paralélelo, la posibilidad de tener repositorios remotos para múltiples usuarios, y el historial de cada cambio realizado, hace mucho más sencillo trabajar en equipos de trabajo. \n",
    "\n",
    "* Git tiene la particularidad de que muchas veces no es explicado en las universidades, y se da por hecho que todas las personas que se dedican a la informática lo conocen, como bien se explicaba en el video de referencia del MIT. Por ello es importante siempre tomarse un tiempo para conocerlo a detalle, y sacarle el máximo provecho. \n"
   ]
  }
 ],
 "metadata": {
  "kernelspec": {
   "display_name": "Python 3",
   "language": "python",
   "name": "python3"
  },
  "language_info": {
   "codemirror_mode": {
    "name": "ipython",
    "version": 3
   },
   "file_extension": ".py",
   "mimetype": "text/x-python",
   "name": "python",
   "nbconvert_exporter": "python",
   "pygments_lexer": "ipython3",
   "version": "3.8.1"
  }
 },
 "nbformat": 4,
 "nbformat_minor": 4
}
