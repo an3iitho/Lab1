{
 "cells": [
  {
   "cell_type": "markdown",
   "metadata": {},
   "source": [
    "# Controlador de versiones Git\n",
    "\n"
   ]
  },
  {
   "cell_type": "markdown",
   "metadata": {},
   "source": [
    "* Version inicial"
   ]
  },
  {
   "cell_type": "code",
   "execution_count": null,
   "metadata": {},
   "outputs": [],
   "source": [
    "%magic"
   ]
  },
  {
   "cell_type": "code",
   "execution_count": 3,
   "metadata": {},
   "outputs": [
    {
     "name": "stdout",
     "output_type": "stream",
     "text": [
      "Microsoft Windows [Versi¢n 10.0.16299.1146]\n",
      "(c) 2017 Microsoft Corporation. Todos los derechos reservados.\n",
      "\n",
      "C:\\Users\\mgt03572\\Desktop\\Git\\Lab1>git clone https://github.com/ErickDiaz/ds_py_galileo_2020.git\n",
      "\n",
      "C:\\Users\\mgt03572\\Desktop\\Git\\Lab1>"
     ]
    },
    {
     "name": "stderr",
     "output_type": "stream",
     "text": [
      "Cloning into 'ds_py_galileo_2020'...\n"
     ]
    }
   ],
   "source": [
    "%%cmd \n",
    "git clone https://github.com/ErickDiaz/ds_py_galileo_2020.git"
   ]
  },
  {
   "cell_type": "code",
   "execution_count": null,
   "metadata": {},
   "outputs": [],
   "source": []
  }
 ],
 "metadata": {
  "kernelspec": {
   "display_name": "Python 3",
   "language": "python",
   "name": "python3"
  },
  "language_info": {
   "codemirror_mode": {
    "name": "ipython",
    "version": 3
   },
   "file_extension": ".py",
   "mimetype": "text/x-python",
   "name": "python",
   "nbconvert_exporter": "python",
   "pygments_lexer": "ipython3",
   "version": "3.8.1"
  }
 },
 "nbformat": 4,
 "nbformat_minor": 4
}
